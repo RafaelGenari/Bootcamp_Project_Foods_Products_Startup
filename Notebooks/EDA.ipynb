{
 "cells": [
  {
   "cell_type": "code",
   "execution_count": 3,
   "metadata": {},
   "outputs": [],
   "source": [
    "import pandas as pd\n",
    "import numpy as np  \n",
    "import seaborn as sns\n",
    "import plotly.express as px\n",
    "import matplotlib.pyplot as plt"
   ]
  },
  {
   "cell_type": "code",
   "execution_count": 4,
   "metadata": {},
   "outputs": [],
   "source": [
    "# Importing the data / Leitura dos dados\n",
    "\n",
    "url_log_exp_us = 'https://raw.githubusercontent.com/RafaelGenari/Bootcamp_Project_Foods_Products_Startup/refs/heads/main/logs_exp_us.csv'\n",
    "\n",
    "log_exp_us = pd.read_csv(url_log_exp_us, sep = \"\\t\")"
   ]
  },
  {
   "cell_type": "code",
   "execution_count": 5,
   "metadata": {},
   "outputs": [
    {
     "data": {
      "text/html": [
       "<div>\n",
       "<style scoped>\n",
       "    .dataframe tbody tr th:only-of-type {\n",
       "        vertical-align: middle;\n",
       "    }\n",
       "\n",
       "    .dataframe tbody tr th {\n",
       "        vertical-align: top;\n",
       "    }\n",
       "\n",
       "    .dataframe thead th {\n",
       "        text-align: right;\n",
       "    }\n",
       "</style>\n",
       "<table border=\"1\" class=\"dataframe\">\n",
       "  <thead>\n",
       "    <tr style=\"text-align: right;\">\n",
       "      <th></th>\n",
       "      <th>EventName</th>\n",
       "      <th>DeviceIDHash</th>\n",
       "      <th>EventTimestamp</th>\n",
       "      <th>ExpId</th>\n",
       "    </tr>\n",
       "  </thead>\n",
       "  <tbody>\n",
       "    <tr>\n",
       "      <th>0</th>\n",
       "      <td>MainScreenAppear</td>\n",
       "      <td>4575588528974610257</td>\n",
       "      <td>1564029816</td>\n",
       "      <td>246</td>\n",
       "    </tr>\n",
       "    <tr>\n",
       "      <th>1</th>\n",
       "      <td>MainScreenAppear</td>\n",
       "      <td>7416695313311560658</td>\n",
       "      <td>1564053102</td>\n",
       "      <td>246</td>\n",
       "    </tr>\n",
       "    <tr>\n",
       "      <th>2</th>\n",
       "      <td>PaymentScreenSuccessful</td>\n",
       "      <td>3518123091307005509</td>\n",
       "      <td>1564054127</td>\n",
       "      <td>248</td>\n",
       "    </tr>\n",
       "    <tr>\n",
       "      <th>3</th>\n",
       "      <td>CartScreenAppear</td>\n",
       "      <td>3518123091307005509</td>\n",
       "      <td>1564054127</td>\n",
       "      <td>248</td>\n",
       "    </tr>\n",
       "    <tr>\n",
       "      <th>4</th>\n",
       "      <td>PaymentScreenSuccessful</td>\n",
       "      <td>6217807653094995999</td>\n",
       "      <td>1564055322</td>\n",
       "      <td>248</td>\n",
       "    </tr>\n",
       "    <tr>\n",
       "      <th>5</th>\n",
       "      <td>CartScreenAppear</td>\n",
       "      <td>6217807653094995999</td>\n",
       "      <td>1564055323</td>\n",
       "      <td>248</td>\n",
       "    </tr>\n",
       "    <tr>\n",
       "      <th>6</th>\n",
       "      <td>OffersScreenAppear</td>\n",
       "      <td>8351860793733343758</td>\n",
       "      <td>1564066242</td>\n",
       "      <td>246</td>\n",
       "    </tr>\n",
       "    <tr>\n",
       "      <th>7</th>\n",
       "      <td>MainScreenAppear</td>\n",
       "      <td>5682100281902512875</td>\n",
       "      <td>1564085677</td>\n",
       "      <td>246</td>\n",
       "    </tr>\n",
       "    <tr>\n",
       "      <th>8</th>\n",
       "      <td>MainScreenAppear</td>\n",
       "      <td>1850981295691852772</td>\n",
       "      <td>1564086702</td>\n",
       "      <td>247</td>\n",
       "    </tr>\n",
       "    <tr>\n",
       "      <th>9</th>\n",
       "      <td>MainScreenAppear</td>\n",
       "      <td>5407636962369102641</td>\n",
       "      <td>1564112112</td>\n",
       "      <td>246</td>\n",
       "    </tr>\n",
       "  </tbody>\n",
       "</table>\n",
       "</div>"
      ],
      "text/plain": [
       "                 EventName         DeviceIDHash  EventTimestamp  ExpId\n",
       "0         MainScreenAppear  4575588528974610257      1564029816    246\n",
       "1         MainScreenAppear  7416695313311560658      1564053102    246\n",
       "2  PaymentScreenSuccessful  3518123091307005509      1564054127    248\n",
       "3         CartScreenAppear  3518123091307005509      1564054127    248\n",
       "4  PaymentScreenSuccessful  6217807653094995999      1564055322    248\n",
       "5         CartScreenAppear  6217807653094995999      1564055323    248\n",
       "6       OffersScreenAppear  8351860793733343758      1564066242    246\n",
       "7         MainScreenAppear  5682100281902512875      1564085677    246\n",
       "8         MainScreenAppear  1850981295691852772      1564086702    247\n",
       "9         MainScreenAppear  5407636962369102641      1564112112    246"
      ]
     },
     "execution_count": 5,
     "metadata": {},
     "output_type": "execute_result"
    }
   ],
   "source": [
    "log_exp_us.head(10)"
   ]
  },
  {
   "cell_type": "code",
   "execution_count": 6,
   "metadata": {},
   "outputs": [
    {
     "name": "stdout",
     "output_type": "stream",
     "text": [
      "<class 'pandas.core.frame.DataFrame'>\n",
      "RangeIndex: 244126 entries, 0 to 244125\n",
      "Data columns (total 4 columns):\n",
      " #   Column          Non-Null Count   Dtype \n",
      "---  ------          --------------   ----- \n",
      " 0   EventName       244126 non-null  object\n",
      " 1   DeviceIDHash    244126 non-null  int64 \n",
      " 2   EventTimestamp  244126 non-null  int64 \n",
      " 3   ExpId           244126 non-null  int64 \n",
      "dtypes: int64(3), object(1)\n",
      "memory usage: 7.5+ MB\n"
     ]
    }
   ],
   "source": [
    "log_exp_us.info()"
   ]
  },
  {
   "cell_type": "code",
   "execution_count": 7,
   "metadata": {},
   "outputs": [
    {
     "data": {
      "text/html": [
       "<div>\n",
       "<style scoped>\n",
       "    .dataframe tbody tr th:only-of-type {\n",
       "        vertical-align: middle;\n",
       "    }\n",
       "\n",
       "    .dataframe tbody tr th {\n",
       "        vertical-align: top;\n",
       "    }\n",
       "\n",
       "    .dataframe thead th {\n",
       "        text-align: right;\n",
       "    }\n",
       "</style>\n",
       "<table border=\"1\" class=\"dataframe\">\n",
       "  <thead>\n",
       "    <tr style=\"text-align: right;\">\n",
       "      <th></th>\n",
       "      <th>DeviceIDHash</th>\n",
       "      <th>EventTimestamp</th>\n",
       "      <th>ExpId</th>\n",
       "    </tr>\n",
       "  </thead>\n",
       "  <tbody>\n",
       "    <tr>\n",
       "      <th>count</th>\n",
       "      <td>2.441260e+05</td>\n",
       "      <td>2.441260e+05</td>\n",
       "      <td>244126.000000</td>\n",
       "    </tr>\n",
       "    <tr>\n",
       "      <th>mean</th>\n",
       "      <td>4.627568e+18</td>\n",
       "      <td>1.564914e+09</td>\n",
       "      <td>247.022296</td>\n",
       "    </tr>\n",
       "    <tr>\n",
       "      <th>std</th>\n",
       "      <td>2.642425e+18</td>\n",
       "      <td>1.771343e+05</td>\n",
       "      <td>0.824434</td>\n",
       "    </tr>\n",
       "    <tr>\n",
       "      <th>min</th>\n",
       "      <td>6.888747e+15</td>\n",
       "      <td>1.564030e+09</td>\n",
       "      <td>246.000000</td>\n",
       "    </tr>\n",
       "    <tr>\n",
       "      <th>25%</th>\n",
       "      <td>2.372212e+18</td>\n",
       "      <td>1.564757e+09</td>\n",
       "      <td>246.000000</td>\n",
       "    </tr>\n",
       "    <tr>\n",
       "      <th>50%</th>\n",
       "      <td>4.623192e+18</td>\n",
       "      <td>1.564919e+09</td>\n",
       "      <td>247.000000</td>\n",
       "    </tr>\n",
       "    <tr>\n",
       "      <th>75%</th>\n",
       "      <td>6.932517e+18</td>\n",
       "      <td>1.565075e+09</td>\n",
       "      <td>248.000000</td>\n",
       "    </tr>\n",
       "    <tr>\n",
       "      <th>max</th>\n",
       "      <td>9.222603e+18</td>\n",
       "      <td>1.565213e+09</td>\n",
       "      <td>248.000000</td>\n",
       "    </tr>\n",
       "  </tbody>\n",
       "</table>\n",
       "</div>"
      ],
      "text/plain": [
       "       DeviceIDHash  EventTimestamp          ExpId\n",
       "count  2.441260e+05    2.441260e+05  244126.000000\n",
       "mean   4.627568e+18    1.564914e+09     247.022296\n",
       "std    2.642425e+18    1.771343e+05       0.824434\n",
       "min    6.888747e+15    1.564030e+09     246.000000\n",
       "25%    2.372212e+18    1.564757e+09     246.000000\n",
       "50%    4.623192e+18    1.564919e+09     247.000000\n",
       "75%    6.932517e+18    1.565075e+09     248.000000\n",
       "max    9.222603e+18    1.565213e+09     248.000000"
      ]
     },
     "execution_count": 7,
     "metadata": {},
     "output_type": "execute_result"
    }
   ],
   "source": [
    "log_exp_us.describe()"
   ]
  },
  {
   "cell_type": "code",
   "execution_count": 8,
   "metadata": {},
   "outputs": [],
   "source": [
    "log_exp_us.columns = ['event_name', 'device_id', 'event_timestamp', 'exp_id']"
   ]
  },
  {
   "cell_type": "code",
   "execution_count": 9,
   "metadata": {},
   "outputs": [
    {
     "data": {
      "text/plain": [
       "event_name         0\n",
       "device_id          0\n",
       "event_timestamp    0\n",
       "exp_id             0\n",
       "dtype: int64"
      ]
     },
     "execution_count": 9,
     "metadata": {},
     "output_type": "execute_result"
    }
   ],
   "source": [
    "log_exp_us.isnull().sum()"
   ]
  },
  {
   "cell_type": "code",
   "execution_count": 10,
   "metadata": {},
   "outputs": [],
   "source": [
    "log_exp_us['event_datetime'] = pd.to_datetime(log_exp_us['event_timestamp'], unit='s')\n",
    "log_exp_us['event_date'] = log_exp_us['event_datetime'].dt.date"
   ]
  },
  {
   "cell_type": "code",
   "execution_count": 11,
   "metadata": {},
   "outputs": [
    {
     "name": "stdout",
     "output_type": "stream",
     "text": [
      "<class 'pandas.core.frame.DataFrame'>\n",
      "RangeIndex: 244126 entries, 0 to 244125\n",
      "Data columns (total 6 columns):\n",
      " #   Column           Non-Null Count   Dtype         \n",
      "---  ------           --------------   -----         \n",
      " 0   event_name       244126 non-null  object        \n",
      " 1   device_id        244126 non-null  int64         \n",
      " 2   event_timestamp  244126 non-null  int64         \n",
      " 3   exp_id           244126 non-null  int64         \n",
      " 4   event_datetime   244126 non-null  datetime64[ns]\n",
      " 5   event_date       244126 non-null  object        \n",
      "dtypes: datetime64[ns](1), int64(3), object(2)\n",
      "memory usage: 11.2+ MB\n"
     ]
    }
   ],
   "source": [
    "log_exp_us.info()"
   ]
  },
  {
   "cell_type": "code",
   "execution_count": 12,
   "metadata": {},
   "outputs": [
    {
     "name": "stdout",
     "output_type": "stream",
     "text": [
      "Total de eventos: 244126\n"
     ]
    }
   ],
   "source": [
    "total_eventos = log_exp_us.shape[0]\n",
    "print(f\"Total de eventos: {total_eventos}\")"
   ]
  },
  {
   "cell_type": "code",
   "execution_count": 13,
   "metadata": {},
   "outputs": [
    {
     "name": "stdout",
     "output_type": "stream",
     "text": [
      "Total de usuários únicos: 7551\n"
     ]
    }
   ],
   "source": [
    "usuarios_unicos = log_exp_us['device_id'].nunique()\n",
    "print(f\"Total de usuários únicos: {usuarios_unicos}\")"
   ]
  },
  {
   "cell_type": "code",
   "execution_count": 14,
   "metadata": {},
   "outputs": [
    {
     "name": "stdout",
     "output_type": "stream",
     "text": [
      "Número médio de eventos por usuário: 32.33\n"
     ]
    }
   ],
   "source": [
    "media_eventos_por_usuario = total_eventos / usuarios_unicos\n",
    "print(f\"Número médio de eventos por usuário: {media_eventos_por_usuario:.2f}\")"
   ]
  },
  {
   "cell_type": "code",
   "execution_count": 15,
   "metadata": {},
   "outputs": [
    {
     "name": "stdout",
     "output_type": "stream",
     "text": [
      "Período dos dados: 2019-07-25 04:43:36 a 2019-08-07 21:15:17\n"
     ]
    }
   ],
   "source": [
    "data_minima = log_exp_us['event_datetime'].min()\n",
    "data_maxima = log_exp_us['event_datetime'].max()\n",
    "print(f\"Período dos dados: {data_minima} a {data_maxima}\")"
   ]
  },
  {
   "cell_type": "code",
   "execution_count": 16,
   "metadata": {},
   "outputs": [
    {
     "data": {
      "image/png": "[encoded data removed]",
      "text/plain": [
       "<Figure size 1200x600 with 1 Axes>"
      ]
     },
     "metadata": {},
     "output_type": "display_data"
    }
   ],
   "source": [
    "eventos_por_data = log_exp_us.groupby('event_date').size()\n",
    "\n",
    "plt.figure(figsize=(12, 6))\n",
    "plt.bar(eventos_por_data.index, eventos_por_data.values, color='skyblue')\n",
    "plt.title('Histograma de eventos por data')\n",
    "plt.xlabel('Data')\n",
    "plt.ylabel('Número de eventos')\n",
    "plt.xticks(rotation=45)\n",
    "plt.show()"
   ]
  },
  {
   "cell_type": "code",
   "execution_count": 17,
   "metadata": {},
   "outputs": [],
   "source": [
    "import datetime\n",
    "\n",
    "data_inicial_completa = '2019-07-31'\n",
    "data_inicial_completa = datetime.date.fromisoformat(data_inicial_completa)\n",
    "log_exp_us = log_exp_us[log_exp_us['event_date'] >= data_inicial_completa]"
   ]
  },
  {
   "cell_type": "code",
   "execution_count": 18,
   "metadata": {},
   "outputs": [
    {
     "name": "stdout",
     "output_type": "stream",
     "text": [
      "exp_id\n",
      "246    2485\n",
      "247    2517\n",
      "248    2540\n",
      "Name: device_id, dtype: int64\n"
     ]
    }
   ],
   "source": [
    "usuarios_por_grupo = log_exp_us.groupby('exp_id')['device_id'].nunique()\n",
    "print(usuarios_por_grupo)"
   ]
  },
  {
   "cell_type": "code",
   "execution_count": 19,
   "metadata": {},
   "outputs": [
    {
     "name": "stdout",
     "output_type": "stream",
     "text": [
      "event_name\n",
      "MainScreenAppear           118681\n",
      "OffersScreenAppear          46724\n",
      "CartScreenAppear            42623\n",
      "PaymentScreenSuccessful     34253\n",
      "Tutorial                     1048\n",
      "Name: count, dtype: int64\n"
     ]
    }
   ],
   "source": [
    "frequencia_eventos = log_exp_us['event_name'].value_counts()\n",
    "print(frequencia_eventos)"
   ]
  },
  {
   "cell_type": "code",
   "execution_count": 20,
   "metadata": {},
   "outputs": [
    {
     "name": "stdout",
     "output_type": "stream",
     "text": [
      "event_name\n",
      "CartScreenAppear           0.495564\n",
      "MainScreenAppear           0.983843\n",
      "OffersScreenAppear         0.609985\n",
      "PaymentScreenSuccessful    0.469077\n",
      "Tutorial                   0.111906\n",
      "Name: device_id, dtype: float64\n"
     ]
    }
   ],
   "source": [
    "usuarios_por_evento = log_exp_us.groupby('event_name')['device_id'].nunique()\n",
    "proporcao_por_evento = usuarios_por_evento / usuarios_unicos\n",
    "print(proporcao_por_evento)"
   ]
  },
  {
   "cell_type": "code",
   "execution_count": 21,
   "metadata": {},
   "outputs": [
    {
     "name": "stdout",
     "output_type": "stream",
     "text": [
      "Proporção de MainScreenAppear → OffersScreenAppear: 60.53%\n",
      "Proporção de OffersScreenAppear → CartScreenAppear: 79.74%\n",
      "Proporção de CartScreenAppear → PaymentScreenSuccessful: 95.76%\n"
     ]
    }
   ],
   "source": [
    "sequencia_funil = ['MainScreenAppear', 'OffersScreenAppear', 'CartScreenAppear', 'PaymentScreenSuccessful']\n",
    "\n",
    "# Número de usuários em cada etapa\n",
    "usuarios_funil = {}\n",
    "for i, evento in enumerate(sequencia_funil):\n",
    "    if i == 0:\n",
    "        usuarios_funil[evento] = set(log_exp_us[log_exp_us['event_name'] == evento]['device_id'])\n",
    "    else:\n",
    "        usuarios_funil[evento] = usuarios_funil[sequencia_funil[i-1]].intersection(\n",
    "            log_exp_us[log_exp_us['event_name'] == evento]['device_id']\n",
    "        )\n",
    "\n",
    "for i in range(len(sequencia_funil) - 1):\n",
    "    atual = sequencia_funil[i]\n",
    "    proxima = sequencia_funil[i + 1]\n",
    "    proporcao = len(usuarios_funil[proxima]) / len(usuarios_funil[atual])\n",
    "    print(f\"Proporção de {atual} → {proxima}: {proporcao:.2%}\")"
   ]
  },
  {
   "cell_type": "code",
   "execution_count": 22,
   "metadata": {},
   "outputs": [
    {
     "name": "stdout",
     "output_type": "stream",
     "text": [
      "exp_id\n",
      "246    2485\n",
      "247    2517\n",
      "248    2540\n",
      "Name: device_id, dtype: int64\n"
     ]
    }
   ],
   "source": [
    "usuarios_por_grupo = log_exp_us.groupby('exp_id')['device_id'].nunique()\n",
    "print(usuarios_por_grupo)"
   ]
  },
  {
   "cell_type": "code",
   "execution_count": 23,
   "metadata": {},
   "outputs": [
    {
     "name": "stdout",
     "output_type": "stream",
     "text": [
      "F-valor: 1.1097193234774474, p-valor: 0.32970531510276097\n"
     ]
    }
   ],
   "source": [
    "from scipy.stats import f_oneway\n",
    "\n",
    "# Contar o número de eventos por device_id em cada grupo\n",
    "freq_eventos = log_exp_us.groupby(['exp_id', 'device_id']).size().reset_index(name='event_count')\n",
    "\n",
    "# Grupos para ANOVA\n",
    "grupo_246 = freq_eventos[freq_eventos['exp_id'] == 246]['event_count']\n",
    "grupo_247 = freq_eventos[freq_eventos['exp_id'] == 247]['event_count']\n",
    "grupo_248 = freq_eventos[freq_eventos['exp_id'] == 248]['event_count']\n",
    "\n",
    "f_stat, p_val = f_oneway(grupo_246, grupo_247, grupo_248)\n",
    "print(f\"F-valor: {f_stat}, p-valor: {p_val}\")"
   ]
  },
  {
   "cell_type": "markdown",
   "metadata": {},
   "source": [
    "Teste ANOVA escolhido, devido ser possível comparação com os três grupos que temos e identificar se pelo menos um deles tem uma média significativamente diferente.\n",
    "\n",
    "- Conclusão teste efetuado:\n",
    "\n",
    "    - O F-valor é a medida da variância entre os grupos comparada à variância dentro dos grupos.\n",
    "    - O p-valor representa a probabilidade de observar um F-valor tão extremo quanto o calculado, assumindo que a hipótese nula é verdadeira.\n",
    "        - Hipótese nula: Não há diferença significativa na métrica analisada (event_count) entre os grupos (246, 247, 248).\n",
    "        - Hipótese alternativa: Há pelo menos uma diferença significativa entre os grupos.\n",
    "\n",
    "    Não há evidências estatisticamente significativas para afirmar que os grupos são diferentes em relação à frequência de eventos por dispositivo.\n",
    "    Em termos práticos, os grupos se comportam de forma semelhante em relação à métrica analisada."
   ]
  },
  {
   "cell_type": "markdown",
   "metadata": {},
   "source": [
    "## Conclusão por Tópicos\n",
    "\n",
    "### Análise Geral\n",
    "\n",
    "    - Total de eventos: 244.126.\n",
    "    - Total de usuários únicos: 7.551.\n",
    "    - Número médio de eventos por usuário: 32,33.\n",
    "    - Período de análise: 25 de julho de 2019 a 7 de agosto de 2019.\n",
    "    - Distribuição por grupos:\n",
    "        - Grupo 246: 2.485 usuários.\n",
    "        - Grupo 247: 2.517 usuários.\n",
    "        - Grupo 248: 2.540 usuários.\n",
    "\n",
    "### Análise de eventos\n",
    "\n",
    "    - Principais eventos registrados:\n",
    "        - MainScreenAppear: 118.681 ocorrências (98,38% dos dispositivos).\n",
    "        - OffersScreenAppear: 46.724 ocorrências (60,99% dos dispositivos).\n",
    "        - CartScreenAppear: 42.623 ocorrências (49,56% dos dispositivos).\n",
    "        - PaymentScreenSuccessful: 34.253 ocorrências (46,91% dos dispositivos).\n",
    "        - Tutorial: 1.048 ocorrências (11,19% dos dispositivos).\n",
    "\n",
    "    - Taxas de conversão entre eventos:\n",
    "        - MainScreenAppear → OffersScreenAppear: 60,53%.\n",
    "        - OffersScreenAppear → CartScreenAppear: 79,74%.\n",
    "        - CartScreenAppear → PaymentScreenSuccessful: 95,76%.\n",
    "\n",
    "    - Teste ANOVA\n",
    "        - F-valor: 1,11.\n",
    "        - p-valor: 0,33.\n",
    "        - Resultado: Não há diferenças estatisticamente significativas entre os grupos (246, 247 e 248) em relação à frequência de eventos por dispositivo.\n",
    "\n",
    "## Conclusão Final\n",
    "\n",
    "A análise realizada apresenta um panorama completo dos dados de eventos registrados entre os grupos de controle e teste. Com base no período de análise e nas métricas avaliadas, constatamos que a taxa de retenção do evento principal (MainScreenAppear) é alta (98,38%), indicando que quase todos os dispositivos acessaram essa tela.\n",
    "\n",
    "Referente às taxas de conversão entre os eventos subsequentes (OffersScreenAppear a PaymentScreenSuccessful) também são expressivas, com uma conversão de 95,76% para pagamentos bem-sucedidos.\n",
    "\n",
    "No teste ANOVA, não foi detectada diferenças estatisticamente significativas na frequência de eventos por dispositivo entre os grupos. Assim, os grupos se comportam de maneira semelhante em relação à métrica analisada.\n",
    "\n",
    "Com base nesses pontos acima, pode-se concluir que a divisão entre os grupos de controle e teste não impactou significativamente o comportamento dos usuários em termos de frequência de eventos. Isso sugere que as mudanças testadas não geraram diferenças detectáveis neste conjunto de dados."
   ]
  }
 ],
 "metadata": {
  "kernelspec": {
   "display_name": "base",
   "language": "python",
   "name": "python3"
  },
  "language_info": {
   "codemirror_mode": {
    "name": "ipython",
    "version": 3
   },
   "file_extension": ".py",
   "mimetype": "text/x-python",
   "name": "python",
   "nbconvert_exporter": "python",
   "pygments_lexer": "ipython3",
   "version": "3.12.4"
  }
 },
 "nbformat": 4,
 "nbformat_minor": 2
}
